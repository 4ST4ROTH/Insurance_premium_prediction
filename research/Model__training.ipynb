{
 "cells": [
  {
   "cell_type": "code",
   "execution_count": 1,
   "metadata": {},
   "outputs": [],
   "source": [
    "import os\n",
    "os.chdir('../')"
   ]
  },
  {
   "cell_type": "code",
   "execution_count": 2,
   "metadata": {},
   "outputs": [],
   "source": [
    "from src.insurance.entity.model_factory import ModelFactory, get_sample_model_config_yaml_file\n"
   ]
  },
  {
   "cell_type": "code",
   "execution_count": 3,
   "metadata": {},
   "outputs": [
    {
     "data": {
      "text/plain": [
       "'config\\\\model.yaml'"
      ]
     },
     "execution_count": 3,
     "metadata": {},
     "output_type": "execute_result"
    }
   ],
   "source": [
    "get_sample_model_config_yaml_file(export_dir='config')\n"
   ]
  },
  {
   "cell_type": "code",
   "execution_count": 4,
   "metadata": {},
   "outputs": [],
   "source": [
    "from sklearn.linear_model import LinearRegression\n",
    "from sklearn.ensemble import RandomForestRegressor\n",
    "from sklearn.tree import DecisionTreeRegressor"
   ]
  },
  {
   "cell_type": "code",
   "execution_count": 5,
   "metadata": {},
   "outputs": [],
   "source": [
    "model_config_file = r\"config\\model.yaml\"\n"
   ]
  },
  {
   "cell_type": "code",
   "execution_count": 6,
   "metadata": {},
   "outputs": [
    {
     "data": {
      "text/plain": [
       "<src.insurance.entity.model_factory.ModelFactory at 0x22ca50b0d00>"
      ]
     },
     "execution_count": 6,
     "metadata": {},
     "output_type": "execute_result"
    }
   ],
   "source": [
    "model_factory = ModelFactory(model_config_path=model_config_file)\n",
    "model_factory"
   ]
  },
  {
   "cell_type": "code",
   "execution_count": 7,
   "metadata": {},
   "outputs": [
    {
     "name": "stdout",
     "output_type": "stream",
     "text": [
      "{'fit_intercept': True}\n",
      "{'min_samples_leaf': 3}\n",
      "{'criterion': ['squared_error'], 'max_features': ['None']}\n"
     ]
    }
   ],
   "source": [
    "model_list = model_factory.get_initialized_model_list()\n"
   ]
  },
  {
   "cell_type": "code",
   "execution_count": 8,
   "metadata": {},
   "outputs": [],
   "source": [
    "from src.insurance.utils.utils import load_numpy_array_data\n"
   ]
  },
  {
   "cell_type": "code",
   "execution_count": 9,
   "metadata": {},
   "outputs": [],
   "source": [
    "data_file_path = r\"premium\\artifact\\data_transformation\\2022-10-26-16-01-01\\transformed_data\\train\\insurance.npz\"\n"
   ]
  },
  {
   "cell_type": "code",
   "execution_count": 10,
   "metadata": {},
   "outputs": [],
   "source": [
    "data = load_numpy_array_data(data_file_path)\n"
   ]
  },
  {
   "cell_type": "code",
   "execution_count": 11,
   "metadata": {},
   "outputs": [],
   "source": [
    "x,y = data[:,:-1],data[:,-1]\n"
   ]
  },
  {
   "cell_type": "code",
   "execution_count": 12,
   "metadata": {},
   "outputs": [
    {
     "name": "stdout",
     "output_type": "stream",
     "text": [
      "{'fit_intercept': True}\n",
      "{'min_samples_leaf': 3}\n",
      "{'criterion': ['squared_error'], 'max_features': ['None']}\n",
      "{'cv': 5, 'verbose': 2}\n",
      "Fitting 5 folds for each of 2 candidates, totalling 10 fits\n",
      "[CV] END .................................fit_intercept=True; total time=   0.0s\n",
      "[CV] END .................................fit_intercept=True; total time=   0.0s\n",
      "[CV] END .................................fit_intercept=True; total time=   0.0s\n",
      "[CV] END .................................fit_intercept=True; total time=   0.0s\n",
      "[CV] END .................................fit_intercept=True; total time=   0.0s\n",
      "[CV] END ................................fit_intercept=False; total time=   0.0s\n",
      "[CV] END ................................fit_intercept=False; total time=   0.0s\n",
      "[CV] END ................................fit_intercept=False; total time=   0.0s\n",
      "[CV] END ................................fit_intercept=False; total time=   0.0s\n",
      "[CV] END ................................fit_intercept=False; total time=   0.0s\n",
      "{'cv': 5, 'verbose': 2}\n",
      "Fitting 5 folds for each of 1 candidates, totalling 5 fits\n",
      "[CV] END .................................min_samples_leaf=6; total time=   1.3s\n",
      "[CV] END .................................min_samples_leaf=6; total time=   1.2s\n",
      "[CV] END .................................min_samples_leaf=6; total time=   1.6s\n",
      "[CV] END .................................min_samples_leaf=6; total time=   0.8s\n",
      "[CV] END .................................min_samples_leaf=6; total time=   0.7s\n",
      "{'cv': 5, 'verbose': 2}\n",
      "Fitting 5 folds for each of 12 candidates, totalling 60 fits\n",
      "[CV] END .........criterion=squared_error, max_features=auto; total time=   0.0s\n",
      "[CV] END .........criterion=squared_error, max_features=auto; total time=   0.0s\n",
      "[CV] END .........criterion=squared_error, max_features=auto; total time=   0.0s\n",
      "[CV] END .........criterion=squared_error, max_features=auto; total time=   0.0s\n",
      "[CV] END .........criterion=squared_error, max_features=auto; total time=   0.0s\n",
      "[CV] END .........criterion=squared_error, max_features=sqrt; total time=   0.0s\n",
      "[CV] END .........criterion=squared_error, max_features=sqrt; total time=   0.0s\n",
      "[CV] END .........criterion=squared_error, max_features=sqrt; total time=   0.0s\n",
      "[CV] END .........criterion=squared_error, max_features=sqrt; total time=   0.0s\n",
      "[CV] END .........criterion=squared_error, max_features=sqrt; total time=   0.0s\n",
      "[CV] END .........criterion=squared_error, max_features=log2; total time=   0.0s\n",
      "[CV] END .........criterion=squared_error, max_features=log2; total time=   0.0s\n",
      "[CV] END .........criterion=squared_error, max_features=log2; total time=   0.0s\n",
      "[CV] END .........criterion=squared_error, max_features=log2; total time=   0.0s\n",
      "[CV] END .........criterion=squared_error, max_features=log2; total time=   0.0s\n",
      "[CV] END ..........criterion=friedman_mse, max_features=auto; total time=   0.0s\n"
     ]
    },
    {
     "name": "stderr",
     "output_type": "stream",
     "text": [
      "c:\\Users\\singh\\ML_Project\\Insurance_premium_prediction\\env\\lib\\site-packages\\sklearn\\tree\\_classes.py:306: FutureWarning: `max_features='auto'` has been deprecated in 1.1 and will be removed in 1.3. To keep the past behaviour, explicitly set `max_features=1.0'`.\n",
      "  warnings.warn(\n",
      "c:\\Users\\singh\\ML_Project\\Insurance_premium_prediction\\env\\lib\\site-packages\\sklearn\\tree\\_classes.py:306: FutureWarning: `max_features='auto'` has been deprecated in 1.1 and will be removed in 1.3. To keep the past behaviour, explicitly set `max_features=1.0'`.\n",
      "  warnings.warn(\n",
      "c:\\Users\\singh\\ML_Project\\Insurance_premium_prediction\\env\\lib\\site-packages\\sklearn\\tree\\_classes.py:306: FutureWarning: `max_features='auto'` has been deprecated in 1.1 and will be removed in 1.3. To keep the past behaviour, explicitly set `max_features=1.0'`.\n",
      "  warnings.warn(\n",
      "c:\\Users\\singh\\ML_Project\\Insurance_premium_prediction\\env\\lib\\site-packages\\sklearn\\tree\\_classes.py:306: FutureWarning: `max_features='auto'` has been deprecated in 1.1 and will be removed in 1.3. To keep the past behaviour, explicitly set `max_features=1.0'`.\n",
      "  warnings.warn(\n",
      "c:\\Users\\singh\\ML_Project\\Insurance_premium_prediction\\env\\lib\\site-packages\\sklearn\\tree\\_classes.py:306: FutureWarning: `max_features='auto'` has been deprecated in 1.1 and will be removed in 1.3. To keep the past behaviour, explicitly set `max_features=1.0'`.\n",
      "  warnings.warn(\n",
      "c:\\Users\\singh\\ML_Project\\Insurance_premium_prediction\\env\\lib\\site-packages\\sklearn\\tree\\_classes.py:306: FutureWarning: `max_features='auto'` has been deprecated in 1.1 and will be removed in 1.3. To keep the past behaviour, explicitly set `max_features=1.0'`.\n",
      "  warnings.warn(\n",
      "c:\\Users\\singh\\ML_Project\\Insurance_premium_prediction\\env\\lib\\site-packages\\sklearn\\tree\\_classes.py:306: FutureWarning: `max_features='auto'` has been deprecated in 1.1 and will be removed in 1.3. To keep the past behaviour, explicitly set `max_features=1.0'`.\n",
      "  warnings.warn(\n"
     ]
    },
    {
     "name": "stdout",
     "output_type": "stream",
     "text": [
      "[CV] END ..........criterion=friedman_mse, max_features=auto; total time=   0.0s\n",
      "[CV] END ..........criterion=friedman_mse, max_features=auto; total time=   0.0s\n",
      "[CV] END ..........criterion=friedman_mse, max_features=auto; total time=   0.0s\n",
      "[CV] END ..........criterion=friedman_mse, max_features=auto; total time=   0.0s\n",
      "[CV] END ..........criterion=friedman_mse, max_features=sqrt; total time=   0.0s\n",
      "[CV] END ..........criterion=friedman_mse, max_features=sqrt; total time=   0.0s\n",
      "[CV] END ..........criterion=friedman_mse, max_features=sqrt; total time=   0.0s\n",
      "[CV] END ..........criterion=friedman_mse, max_features=sqrt; total time=   0.0s\n",
      "[CV] END ..........criterion=friedman_mse, max_features=sqrt; total time=   0.0s\n",
      "[CV] END ..........criterion=friedman_mse, max_features=log2; total time=   0.0s\n",
      "[CV] END ..........criterion=friedman_mse, max_features=log2; total time=   0.0s\n",
      "[CV] END ..........criterion=friedman_mse, max_features=log2; total time=   0.0s\n",
      "[CV] END ..........criterion=friedman_mse, max_features=log2; total time=   0.0s\n",
      "[CV] END ..........criterion=friedman_mse, max_features=log2; total time=   0.0s\n"
     ]
    },
    {
     "name": "stderr",
     "output_type": "stream",
     "text": [
      "c:\\Users\\singh\\ML_Project\\Insurance_premium_prediction\\env\\lib\\site-packages\\sklearn\\tree\\_classes.py:306: FutureWarning: `max_features='auto'` has been deprecated in 1.1 and will be removed in 1.3. To keep the past behaviour, explicitly set `max_features=1.0'`.\n",
      "  warnings.warn(\n",
      "c:\\Users\\singh\\ML_Project\\Insurance_premium_prediction\\env\\lib\\site-packages\\sklearn\\tree\\_classes.py:306: FutureWarning: `max_features='auto'` has been deprecated in 1.1 and will be removed in 1.3. To keep the past behaviour, explicitly set `max_features=1.0'`.\n",
      "  warnings.warn(\n",
      "c:\\Users\\singh\\ML_Project\\Insurance_premium_prediction\\env\\lib\\site-packages\\sklearn\\tree\\_classes.py:306: FutureWarning: `max_features='auto'` has been deprecated in 1.1 and will be removed in 1.3. To keep the past behaviour, explicitly set `max_features=1.0'`.\n",
      "  warnings.warn(\n",
      "c:\\Users\\singh\\ML_Project\\Insurance_premium_prediction\\env\\lib\\site-packages\\sklearn\\tree\\_classes.py:306: FutureWarning: `max_features='auto'` has been deprecated in 1.1 and will be removed in 1.3. To keep the past behaviour, explicitly set `max_features=1.0'`.\n",
      "  warnings.warn(\n"
     ]
    },
    {
     "name": "stdout",
     "output_type": "stream",
     "text": [
      "[CV] END ........criterion=absolute_error, max_features=auto; total time=   0.1s\n",
      "[CV] END ........criterion=absolute_error, max_features=auto; total time=   0.0s\n"
     ]
    },
    {
     "name": "stderr",
     "output_type": "stream",
     "text": [
      "c:\\Users\\singh\\ML_Project\\Insurance_premium_prediction\\env\\lib\\site-packages\\sklearn\\tree\\_classes.py:306: FutureWarning: `max_features='auto'` has been deprecated in 1.1 and will be removed in 1.3. To keep the past behaviour, explicitly set `max_features=1.0'`.\n",
      "  warnings.warn(\n",
      "c:\\Users\\singh\\ML_Project\\Insurance_premium_prediction\\env\\lib\\site-packages\\sklearn\\tree\\_classes.py:306: FutureWarning: `max_features='auto'` has been deprecated in 1.1 and will be removed in 1.3. To keep the past behaviour, explicitly set `max_features=1.0'`.\n",
      "  warnings.warn(\n"
     ]
    },
    {
     "name": "stdout",
     "output_type": "stream",
     "text": [
      "[CV] END ........criterion=absolute_error, max_features=auto; total time=   0.0s\n",
      "[CV] END ........criterion=absolute_error, max_features=auto; total time=   0.1s\n"
     ]
    },
    {
     "name": "stderr",
     "output_type": "stream",
     "text": [
      "c:\\Users\\singh\\ML_Project\\Insurance_premium_prediction\\env\\lib\\site-packages\\sklearn\\tree\\_classes.py:306: FutureWarning: `max_features='auto'` has been deprecated in 1.1 and will be removed in 1.3. To keep the past behaviour, explicitly set `max_features=1.0'`.\n",
      "  warnings.warn(\n",
      "c:\\Users\\singh\\ML_Project\\Insurance_premium_prediction\\env\\lib\\site-packages\\sklearn\\tree\\_classes.py:306: FutureWarning: `max_features='auto'` has been deprecated in 1.1 and will be removed in 1.3. To keep the past behaviour, explicitly set `max_features=1.0'`.\n",
      "  warnings.warn(\n"
     ]
    },
    {
     "name": "stdout",
     "output_type": "stream",
     "text": [
      "[CV] END ........criterion=absolute_error, max_features=auto; total time=   0.0s\n",
      "[CV] END ........criterion=absolute_error, max_features=sqrt; total time=   0.0s\n",
      "[CV] END ........criterion=absolute_error, max_features=sqrt; total time=   0.0s\n",
      "[CV] END ........criterion=absolute_error, max_features=sqrt; total time=   0.0s\n",
      "[CV] END ........criterion=absolute_error, max_features=sqrt; total time=   0.0s\n",
      "[CV] END ........criterion=absolute_error, max_features=sqrt; total time=   0.0s\n",
      "[CV] END ........criterion=absolute_error, max_features=log2; total time=   0.0s\n",
      "[CV] END ........criterion=absolute_error, max_features=log2; total time=   0.0s\n",
      "[CV] END ........criterion=absolute_error, max_features=log2; total time=   0.0s\n",
      "[CV] END ........criterion=absolute_error, max_features=log2; total time=   0.0s\n",
      "[CV] END ........criterion=absolute_error, max_features=log2; total time=   0.0s\n",
      "[CV] END ...............criterion=poisson, max_features=auto; total time=   0.0s\n",
      "[CV] END ...............criterion=poisson, max_features=auto; total time=   0.0s\n",
      "[CV] END ...............criterion=poisson, max_features=auto; total time=   0.0s\n",
      "[CV] END ...............criterion=poisson, max_features=auto; total time=   0.0s\n",
      "[CV] END ...............criterion=poisson, max_features=auto; total time=   0.0s\n",
      "[CV] END ...............criterion=poisson, max_features=sqrt; total time=   0.0s\n",
      "[CV] END ...............criterion=poisson, max_features=sqrt; total time=   0.0s\n",
      "[CV] END ...............criterion=poisson, max_features=sqrt; total time=   0.0s\n",
      "[CV] END ...............criterion=poisson, max_features=sqrt; total time=   0.0s\n",
      "[CV] END ...............criterion=poisson, max_features=sqrt; total time=   0.0s\n",
      "[CV] END ...............criterion=poisson, max_features=log2; total time=   0.0s\n",
      "[CV] END ...............criterion=poisson, max_features=log2; total time=   0.0s\n"
     ]
    },
    {
     "name": "stderr",
     "output_type": "stream",
     "text": [
      "c:\\Users\\singh\\ML_Project\\Insurance_premium_prediction\\env\\lib\\site-packages\\sklearn\\tree\\_classes.py:306: FutureWarning: `max_features='auto'` has been deprecated in 1.1 and will be removed in 1.3. To keep the past behaviour, explicitly set `max_features=1.0'`.\n",
      "  warnings.warn(\n",
      "c:\\Users\\singh\\ML_Project\\Insurance_premium_prediction\\env\\lib\\site-packages\\sklearn\\tree\\_classes.py:306: FutureWarning: `max_features='auto'` has been deprecated in 1.1 and will be removed in 1.3. To keep the past behaviour, explicitly set `max_features=1.0'`.\n",
      "  warnings.warn(\n",
      "c:\\Users\\singh\\ML_Project\\Insurance_premium_prediction\\env\\lib\\site-packages\\sklearn\\tree\\_classes.py:306: FutureWarning: `max_features='auto'` has been deprecated in 1.1 and will be removed in 1.3. To keep the past behaviour, explicitly set `max_features=1.0'`.\n",
      "  warnings.warn(\n",
      "c:\\Users\\singh\\ML_Project\\Insurance_premium_prediction\\env\\lib\\site-packages\\sklearn\\tree\\_classes.py:306: FutureWarning: `max_features='auto'` has been deprecated in 1.1 and will be removed in 1.3. To keep the past behaviour, explicitly set `max_features=1.0'`.\n",
      "  warnings.warn(\n",
      "c:\\Users\\singh\\ML_Project\\Insurance_premium_prediction\\env\\lib\\site-packages\\sklearn\\tree\\_classes.py:306: FutureWarning: `max_features='auto'` has been deprecated in 1.1 and will be removed in 1.3. To keep the past behaviour, explicitly set `max_features=1.0'`.\n",
      "  warnings.warn(\n"
     ]
    },
    {
     "name": "stdout",
     "output_type": "stream",
     "text": [
      "[CV] END ...............criterion=poisson, max_features=log2; total time=   0.0s\n",
      "[CV] END ...............criterion=poisson, max_features=log2; total time=   0.0s\n",
      "[CV] END ...............criterion=poisson, max_features=log2; total time=   0.0s\n"
     ]
    }
   ],
   "source": [
    "best_model = model_factory.get_best_model(x,y)\n"
   ]
  },
  {
   "cell_type": "code",
   "execution_count": null,
   "metadata": {},
   "outputs": [],
   "source": []
  }
 ],
 "metadata": {
  "kernelspec": {
   "display_name": "Python 3.8.13 (conda)",
   "language": "python",
   "name": "python3"
  },
  "language_info": {
   "codemirror_mode": {
    "name": "ipython",
    "version": 3
   },
   "file_extension": ".py",
   "mimetype": "text/x-python",
   "name": "python",
   "nbconvert_exporter": "python",
   "pygments_lexer": "ipython3",
   "version": "3.8.13"
  },
  "orig_nbformat": 4,
  "vscode": {
   "interpreter": {
    "hash": "af8a5251defda9044e1b2cfe86ae4b00fc01a65479a00a8475cf71f98992f5be"
   }
  }
 },
 "nbformat": 4,
 "nbformat_minor": 2
}
